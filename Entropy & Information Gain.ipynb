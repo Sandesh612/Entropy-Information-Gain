{
 "cells": [
  {
   "cell_type": "code",
   "execution_count": 11,
   "metadata": {},
   "outputs": [],
   "source": [
    "import numpy as np\n",
    "import matplotlib.pyplot as plt\n",
    "%matplotlib inline \n",
    "import pandas as pd"
   ]
  },
  {
   "cell_type": "code",
   "execution_count": 12,
   "metadata": {},
   "outputs": [],
   "source": [
    "path = \"./Downloads/samplecar.csv\"\n",
    "dataset = pd.read_csv(path)"
   ]
  },
  {
   "cell_type": "code",
   "execution_count": 14,
   "metadata": {},
   "outputs": [
    {
     "data": {
      "text/html": [
       "<div>\n",
       "<style scoped>\n",
       "    .dataframe tbody tr th:only-of-type {\n",
       "        vertical-align: middle;\n",
       "    }\n",
       "\n",
       "    .dataframe tbody tr th {\n",
       "        vertical-align: top;\n",
       "    }\n",
       "\n",
       "    .dataframe thead th {\n",
       "        text-align: right;\n",
       "    }\n",
       "</style>\n",
       "<table border=\"1\" class=\"dataframe\">\n",
       "  <thead>\n",
       "    <tr style=\"text-align: right;\">\n",
       "      <th></th>\n",
       "      <th>Type</th>\n",
       "      <th>Price</th>\n",
       "      <th>Buy</th>\n",
       "    </tr>\n",
       "  </thead>\n",
       "  <tbody>\n",
       "    <tr>\n",
       "      <th>0</th>\n",
       "      <td>SUV</td>\n",
       "      <td>H</td>\n",
       "      <td>No</td>\n",
       "    </tr>\n",
       "    <tr>\n",
       "      <th>1</th>\n",
       "      <td>HB</td>\n",
       "      <td>H</td>\n",
       "      <td>No</td>\n",
       "    </tr>\n",
       "    <tr>\n",
       "      <th>2</th>\n",
       "      <td>HB</td>\n",
       "      <td>H</td>\n",
       "      <td>Yes</td>\n",
       "    </tr>\n",
       "    <tr>\n",
       "      <th>3</th>\n",
       "      <td>HB</td>\n",
       "      <td>L</td>\n",
       "      <td>No</td>\n",
       "    </tr>\n",
       "    <tr>\n",
       "      <th>4</th>\n",
       "      <td>SEDAN</td>\n",
       "      <td>H</td>\n",
       "      <td>Yes</td>\n",
       "    </tr>\n",
       "  </tbody>\n",
       "</table>\n",
       "</div>"
      ],
      "text/plain": [
       "    Type Price  Buy\n",
       "0    SUV     H   No\n",
       "1     HB     H   No\n",
       "2     HB     H  Yes\n",
       "3     HB     L   No\n",
       "4  SEDAN     H  Yes"
      ]
     },
     "execution_count": 14,
     "metadata": {},
     "output_type": "execute_result"
    }
   ],
   "source": [
    "dataset.head()"
   ]
  },
  {
   "cell_type": "code",
   "execution_count": 15,
   "metadata": {},
   "outputs": [
    {
     "name": "stdout",
     "output_type": "stream",
     "text": [
      "<class 'pandas.core.frame.DataFrame'>\n",
      "RangeIndex: 10 entries, 0 to 9\n",
      "Data columns (total 3 columns):\n",
      " #   Column  Non-Null Count  Dtype \n",
      "---  ------  --------------  ----- \n",
      " 0   Type    10 non-null     object\n",
      " 1   Price   10 non-null     object\n",
      " 2   Buy     10 non-null     object\n",
      "dtypes: object(3)\n",
      "memory usage: 368.0+ bytes\n"
     ]
    }
   ],
   "source": [
    "dataset.info()"
   ]
  },
  {
   "cell_type": "code",
   "execution_count": 16,
   "metadata": {},
   "outputs": [
    {
     "data": {
      "text/html": [
       "<div>\n",
       "<style scoped>\n",
       "    .dataframe tbody tr th:only-of-type {\n",
       "        vertical-align: middle;\n",
       "    }\n",
       "\n",
       "    .dataframe tbody tr th {\n",
       "        vertical-align: top;\n",
       "    }\n",
       "\n",
       "    .dataframe thead th {\n",
       "        text-align: right;\n",
       "    }\n",
       "</style>\n",
       "<table border=\"1\" class=\"dataframe\">\n",
       "  <thead>\n",
       "    <tr style=\"text-align: right;\">\n",
       "      <th></th>\n",
       "      <th>Type</th>\n",
       "      <th>Price</th>\n",
       "      <th>Buy</th>\n",
       "    </tr>\n",
       "  </thead>\n",
       "  <tbody>\n",
       "    <tr>\n",
       "      <th>0</th>\n",
       "      <td>SUV</td>\n",
       "      <td>H</td>\n",
       "      <td>No</td>\n",
       "    </tr>\n",
       "    <tr>\n",
       "      <th>1</th>\n",
       "      <td>HB</td>\n",
       "      <td>H</td>\n",
       "      <td>No</td>\n",
       "    </tr>\n",
       "    <tr>\n",
       "      <th>2</th>\n",
       "      <td>HB</td>\n",
       "      <td>H</td>\n",
       "      <td>Yes</td>\n",
       "    </tr>\n",
       "    <tr>\n",
       "      <th>3</th>\n",
       "      <td>HB</td>\n",
       "      <td>L</td>\n",
       "      <td>No</td>\n",
       "    </tr>\n",
       "    <tr>\n",
       "      <th>4</th>\n",
       "      <td>SEDAN</td>\n",
       "      <td>H</td>\n",
       "      <td>Yes</td>\n",
       "    </tr>\n",
       "    <tr>\n",
       "      <th>5</th>\n",
       "      <td>SEDAN</td>\n",
       "      <td>L</td>\n",
       "      <td>Yes</td>\n",
       "    </tr>\n",
       "    <tr>\n",
       "      <th>6</th>\n",
       "      <td>SUV</td>\n",
       "      <td>L</td>\n",
       "      <td>No</td>\n",
       "    </tr>\n",
       "    <tr>\n",
       "      <th>7</th>\n",
       "      <td>SEDAN</td>\n",
       "      <td>H</td>\n",
       "      <td>Yes</td>\n",
       "    </tr>\n",
       "    <tr>\n",
       "      <th>8</th>\n",
       "      <td>HB</td>\n",
       "      <td>L</td>\n",
       "      <td>Yes</td>\n",
       "    </tr>\n",
       "    <tr>\n",
       "      <th>9</th>\n",
       "      <td>SUV</td>\n",
       "      <td>Hot</td>\n",
       "      <td>Yes</td>\n",
       "    </tr>\n",
       "  </tbody>\n",
       "</table>\n",
       "</div>"
      ],
      "text/plain": [
       "    Type Price  Buy\n",
       "0    SUV     H   No\n",
       "1     HB     H   No\n",
       "2     HB     H  Yes\n",
       "3     HB     L   No\n",
       "4  SEDAN     H  Yes\n",
       "5  SEDAN     L  Yes\n",
       "6    SUV     L   No\n",
       "7  SEDAN     H  Yes\n",
       "8     HB     L  Yes\n",
       "9    SUV   Hot  Yes"
      ]
     },
     "execution_count": 16,
     "metadata": {},
     "output_type": "execute_result"
    }
   ],
   "source": [
    "dataset"
   ]
  },
  {
   "cell_type": "code",
   "execution_count": 17,
   "metadata": {},
   "outputs": [],
   "source": [
    "features = dataset.iloc[:,:-1]\n",
    "target = dataset.iloc[:,-1:]\n",
    "assert features.shape[0] == target.shape[0], \"len(features) == len(target)\""
   ]
  },
  {
   "cell_type": "code",
   "execution_count": 18,
   "metadata": {},
   "outputs": [
    {
     "name": "stdout",
     "output_type": "stream",
     "text": [
      "    Type Price\n",
      "0    SUV     H\n",
      "1     HB     H\n",
      "2     HB     H\n",
      "3     HB     L\n",
      "4  SEDAN     H\n",
      "5  SEDAN     L\n",
      "6    SUV     L\n",
      "7  SEDAN     H\n",
      "8     HB     L\n",
      "9    SUV   Hot\n"
     ]
    }
   ],
   "source": [
    "print(features)"
   ]
  },
  {
   "cell_type": "code",
   "execution_count": 19,
   "metadata": {},
   "outputs": [
    {
     "name": "stdout",
     "output_type": "stream",
     "text": [
      "   Buy\n",
      "0   No\n",
      "1   No\n",
      "2  Yes\n",
      "3   No\n",
      "4  Yes\n",
      "5  Yes\n",
      "6   No\n",
      "7  Yes\n",
      "8  Yes\n",
      "9  Yes\n"
     ]
    }
   ],
   "source": [
    "print(target)"
   ]
  },
  {
   "cell_type": "code",
   "execution_count": 20,
   "metadata": {},
   "outputs": [
    {
     "name": "stdout",
     "output_type": "stream",
     "text": [
      "0.6 0.4\n"
     ]
    },
    {
     "data": {
      "text/plain": [
       "0.9709505944546686"
      ]
     },
     "execution_count": 20,
     "metadata": {},
     "output_type": "execute_result"
    }
   ],
   "source": [
    "tot = len(dataset)\n",
    "tot_n = dataset[dataset[\"Buy\"] == \"No\"].shape[0]\n",
    "tot_y = dataset[dataset[\"Buy\"] == \"Yes\"].shape[0]\n",
    "prob_y = tot_y/tot\n",
    "prob_n = tot_n/tot\n",
    "print(prob_y, prob_n)\n",
    "H_tot = -prob_y * np.log2(prob_y) - prob_n * np.log2(prob_n)\n",
    "H_tot"
   ]
  },
  {
   "cell_type": "code",
   "execution_count": 29,
   "metadata": {},
   "outputs": [
    {
     "name": "stdout",
     "output_type": "stream",
     "text": [
      "0.9182958340544896\n"
     ]
    }
   ],
   "source": [
    "type = dataset[\"Type\"].unique()\n",
    "suv = dataset[dataset[\"Type\"]==\"SUV\"]\n",
    "tot_suv = len(suv)\n",
    "prob_suv = tot_suv/tot\n",
    "tot_suv_yes = suv[suv[\"Buy\"] ==\"Yes\"].shape[0]\n",
    "tot_suv_no=   suv[suv[\"Buy\"] ==\"No\"].shape[0]\n",
    "prob_suv_yes = tot_suv_yes/tot_suv\n",
    "prob_suv_no = tot_suv_no/tot_suv\n",
    "H_type_suv = -prob_suv_yes * np.log2(prob_suv_yes) - prob_suv_no * np.log2(prob_suv_no)\n",
    "print(H_type_suv)"
   ]
  },
  {
   "cell_type": "code",
   "execution_count": 30,
   "metadata": {},
   "outputs": [
    {
     "name": "stdout",
     "output_type": "stream",
     "text": [
      "1.0\n"
     ]
    }
   ],
   "source": [
    "type = dataset[\"Type\"].unique()\n",
    "HB = dataset[dataset[\"Type\"]==\"HB\"]\n",
    "tot_HB = len(HB)\n",
    "prob_HB = tot_HB/tot\n",
    "tot_HB_yes = HB[HB[\"Buy\"] ==\"Yes\"].shape[0]\n",
    "tot_HB_no=   HB[HB[\"Buy\"] ==\"No\"].shape[0]\n",
    "prob_HB_yes = tot_HB_yes/tot_HB\n",
    "prob_HB_no = tot_HB_no/tot_HB\n",
    "H_type_HB = -prob_HB_yes * np.log2(prob_HB_yes) - prob_HB_no * np.log2(prob_HB_no)\n",
    "print(H_type_HB)"
   ]
  },
  {
   "cell_type": "code",
   "execution_count": 31,
   "metadata": {},
   "outputs": [
    {
     "name": "stdout",
     "output_type": "stream",
     "text": [
      "nan\n"
     ]
    },
    {
     "name": "stderr",
     "output_type": "stream",
     "text": [
      "<ipython-input-31-03c2daba6b2d>:9: RuntimeWarning: divide by zero encountered in log2\n",
      "  H_type_SEDAN = -prob_SEDAN_yes * np.log2(prob_SEDAN_yes) - prob_SEDAN_no * np.log2(prob_SEDAN_no)\n",
      "<ipython-input-31-03c2daba6b2d>:9: RuntimeWarning: invalid value encountered in double_scalars\n",
      "  H_type_SEDAN = -prob_SEDAN_yes * np.log2(prob_SEDAN_yes) - prob_SEDAN_no * np.log2(prob_SEDAN_no)\n"
     ]
    }
   ],
   "source": [
    "type = dataset[\"Type\"].unique()\n",
    "SEDAN = dataset[dataset[\"Type\"]==\"SEDAN\"]\n",
    "tot_SEDAN = len(SEDAN)\n",
    "prob_SEDAN = tot_SEDAN/tot\n",
    "tot_SEDAN_yes = SEDAN[SEDAN[\"Buy\"] ==\"Yes\"].shape[0]\n",
    "tot_SEDAN_no=   SEDAN[SEDAN[\"Buy\"] ==\"No\"].shape[0]\n",
    "prob_SEDAN_yes = tot_SEDAN_yes/tot_SEDAN\n",
    "prob_SEDAN_no = tot_SEDAN_no/tot_SEDAN\n",
    "H_type_SEDAN = -prob_SEDAN_yes * np.log2(prob_SEDAN_yes) - prob_SEDAN_no * np.log2(prob_SEDAN_no)\n",
    "print(H_type_SEDAN)"
   ]
  },
  {
   "cell_type": "code",
   "execution_count": 33,
   "metadata": {},
   "outputs": [
    {
     "name": "stdout",
     "output_type": "stream",
     "text": [
      "0.6754887502163469\n"
     ]
    }
   ],
   "source": [
    "I_type = prob_suv * H_type_suv + prob_HB * H_type_HB\n",
    "print(I_type)"
   ]
  },
  {
   "cell_type": "code",
   "execution_count": 34,
   "metadata": {},
   "outputs": [],
   "source": [
    "IG = H_tot - I_type"
   ]
  },
  {
   "cell_type": "code",
   "execution_count": 35,
   "metadata": {},
   "outputs": [
    {
     "name": "stdout",
     "output_type": "stream",
     "text": [
      "0.29546184423832167\n"
     ]
    }
   ],
   "source": [
    "print(IG)"
   ]
  },
  {
   "cell_type": "code",
   "execution_count": 37,
   "metadata": {},
   "outputs": [
    {
     "name": "stdout",
     "output_type": "stream",
     "text": [
      "0.9709505944546686\n"
     ]
    }
   ],
   "source": [
    "price = dataset[\"Price\"].unique()\n",
    "high = dataset[dataset[\"Price\"]==\"H\"]\n",
    "tot_high = len(high)\n",
    "prob_high = tot_high/tot\n",
    "tot_high_yes = high[high[\"Buy\"] ==\"Yes\"].shape[0]\n",
    "tot_high_no=   high[high[\"Buy\"] ==\"No\"].shape[0]\n",
    "prob_high_yes = tot_high_yes/tot_high\n",
    "prob_high_no = tot_high_no/tot_high\n",
    "H_price_high = -prob_high_yes * np.log2(prob_high_yes) - prob_high_no * np.log2(prob_high_no)\n",
    "print(H_price_high)"
   ]
  },
  {
   "cell_type": "code",
   "execution_count": 38,
   "metadata": {},
   "outputs": [
    {
     "name": "stdout",
     "output_type": "stream",
     "text": [
      "1.0\n"
     ]
    }
   ],
   "source": [
    "price = dataset[\"Price\"].unique()\n",
    "low = dataset[dataset[\"Price\"]==\"L\"]\n",
    "tot_low = len(low)\n",
    "prob_low = tot_low/tot\n",
    "tot_low_yes = low[low[\"Buy\"] ==\"Yes\"].shape[0]\n",
    "tot_low_no=   low[low[\"Buy\"] ==\"No\"].shape[0]\n",
    "prob_low_yes = tot_low_yes/tot_low\n",
    "prob_low_no = tot_low_no/tot_low\n",
    "H_price_low = -prob_low_yes * np.log2(prob_low_yes) - prob_low_no * np.log2(prob_low_no)\n",
    "print(H_price_low)"
   ]
  },
  {
   "cell_type": "code",
   "execution_count": 41,
   "metadata": {},
   "outputs": [
    {
     "name": "stdout",
     "output_type": "stream",
     "text": [
      "0.8854752972273343\n"
     ]
    }
   ],
   "source": [
    "I_price = prob_high * H_price_high + prob_low * H_price_low\n",
    "print(I_type)"
   ]
  },
  {
   "cell_type": "code",
   "execution_count": 42,
   "metadata": {},
   "outputs": [],
   "source": [
    "IG_price = H_tot - I_price"
   ]
  },
  {
   "cell_type": "code",
   "execution_count": 45,
   "metadata": {},
   "outputs": [
    {
     "name": "stdout",
     "output_type": "stream",
     "text": [
      "0.08547529722733427\n"
     ]
    }
   ],
   "source": [
    "print (IG_price)"
   ]
  },
  {
   "cell_type": "code",
   "execution_count": null,
   "metadata": {},
   "outputs": [],
   "source": []
  }
 ],
 "metadata": {
  "kernelspec": {
   "display_name": "Python 3",
   "language": "python",
   "name": "python3"
  },
  "language_info": {
   "codemirror_mode": {
    "name": "ipython",
    "version": 3
   },
   "file_extension": ".py",
   "mimetype": "text/x-python",
   "name": "python",
   "nbconvert_exporter": "python",
   "pygments_lexer": "ipython3",
   "version": "3.8.3"
  }
 },
 "nbformat": 4,
 "nbformat_minor": 4
}
